{
  "nbformat": 4,
  "nbformat_minor": 0,
  "metadata": {
    "colab": {
      "provenance": [],
      "authorship_tag": "ABX9TyMJzRtKZX0H+HkbyyhWouBB",
      "include_colab_link": true
    },
    "kernelspec": {
      "name": "python3",
      "display_name": "Python 3"
    },
    "language_info": {
      "name": "python"
    }
  },
  "cells": [
    {
      "cell_type": "markdown",
      "metadata": {
        "id": "view-in-github",
        "colab_type": "text"
      },
      "source": [
        "<a href=\"https://colab.research.google.com/github/dsimonds-bot/lcs-web-scraping/blob/main/src/lcs_data_extract.ipynb\" target=\"_parent\"><img src=\"https://colab.research.google.com/assets/colab-badge.svg\" alt=\"Open In Colab\"/></a>"
      ]
    },
    {
      "cell_type": "code",
      "source": [
        "# Import libraries\n",
        "import requests\n",
        "from bs4 import BeautifulSoup\n",
        "import pandas as pd\n",
        "import matplotlib.pyplot as plt\n",
        "import matplotlib.style as style\n",
        "style.use('ggplot')\n",
        "\n",
        "# Create an URL object\n",
        "url = 'https://lol.fandom.com/wiki/LCS/2022_Season/Lock_In/Runes'\n",
        "\n",
        "# Create object page\n",
        "page = requests.get(url)\n",
        "\n",
        "# Test response; 200 means server response\n",
        "print(page)\n",
        "\n",
        "# Obtain page's information\n",
        "soup = BeautifulSoup(page.text, 'lxml')\n",
        "\n",
        "# Grab table\n",
        "table = soup.find(\"table\", class_ = 'wikitable runedata hoverable-rows')\n",
        "\n",
        "# Append headers to list\n",
        "headers = []\n",
        "for i in table.find_all('th'):\n",
        "  temp = i.text\n",
        "  headers.append(temp)\n",
        "\n",
        "# Creating a dataframe\n",
        "df = pd.DataFrame(columns = headers)\n",
        "\n",
        "# Grabbing observations\n",
        "for j in table.find_all('tr')[1:]:\n",
        " row_data = j.find_all('td')\n",
        " row = [i.text for i in row_data]\n",
        " length = len(df)\n",
        " df.loc[length] = row\n",
        "\n",
        "# Seeing which junglers are the most popular\n",
        "df['Champion'].loc[(df['Position'] == 'Jungle') & (df['V'] == '12.1')].value_counts().plot(kind = 'barh', figsize = (12,7))"
      ],
      "metadata": {
        "id": "Bc_kNwdL-Oy_",
        "outputId": "0e267dce-02c5-4621-d61a-91ee97c61d34",
        "colab": {
          "base_uri": "https://localhost:8080/",
          "height": 463
        }
      },
      "execution_count": 34,
      "outputs": [
        {
          "output_type": "stream",
          "name": "stdout",
          "text": [
            "<Response [200]>\n"
          ]
        },
        {
          "output_type": "execute_result",
          "data": {
            "text/plain": [
              "<matplotlib.axes._subplots.AxesSubplot at 0x7fba524fd7d0>"
            ]
          },
          "metadata": {},
          "execution_count": 34
        },
        {
          "output_type": "display_data",
          "data": {
            "text/plain": [
              "<Figure size 864x504 with 1 Axes>"
            ],
            "image/png": "[encoded data removed]"
          },
          "metadata": {}
        }
      ]
    }
  ]
}